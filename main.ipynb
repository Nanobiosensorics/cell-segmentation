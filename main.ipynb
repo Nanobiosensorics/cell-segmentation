{
 "cells": [
  {
   "cell_type": "code",
   "execution_count": 2,
   "metadata": {},
   "outputs": [
    {
     "name": "stdout",
     "output_type": "stream",
     "text": [
      "{'WatershedMethod': {'accuracy': 0.27165314683419445}}\n"
     ]
    }
   ],
   "source": [
    "from src.loader import create_dataloader, ClassificationDataset\n",
    "from src.evaluation import evaluate_dataset\n",
    "from src.methods import WatershedMethod\n",
    "from src.metrics import accuracy, execution_time\n",
    "\n",
    "test_dataloader = create_dataloader(ClassificationDataset('./data/20210407_LCLC_H838_nonc'), batch_size=5)\n",
    "print(evaluate_dataset(test_dataloader, methods=[WatershedMethod], metrics=[accuracy, execution_time]))\n"
   ]
  }
 ],
 "metadata": {
  "kernelspec": {
   "display_name": "Python 3",
   "language": "python",
   "name": "python3"
  },
  "language_info": {
   "codemirror_mode": {
    "name": "ipython",
    "version": 3
   },
   "file_extension": ".py",
   "mimetype": "text/x-python",
   "name": "python",
   "nbconvert_exporter": "python",
   "pygments_lexer": "ipython3",
   "version": "3.11.9"
  }
 },
 "nbformat": 4,
 "nbformat_minor": 2
}
