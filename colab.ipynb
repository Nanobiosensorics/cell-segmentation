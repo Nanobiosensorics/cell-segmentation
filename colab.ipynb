{
 "cells": [
  {
   "cell_type": "code",
   "execution_count": null,
   "metadata": {},
   "outputs": [],
   "source": [
    "# Cloning the project.\n",
    "!rm -rf cell-segmentation\n",
    "!git clone https://github.com/Nanobiosensorics/cell-segmentation.git"
   ]
  },
  {
   "cell_type": "code",
   "execution_count": null,
   "metadata": {},
   "outputs": [],
   "source": [
    "# Installing packages required for this project.\n",
    "%pip install -r cell-segmentation/requirements.txt"
   ]
  },
  {
   "cell_type": "code",
   "execution_count": null,
   "metadata": {},
   "outputs": [],
   "source": [
    "# Appending to path so it can be imported.\n",
    "import sys\n",
    "sys.path.append(\"/content/cell-segmentation\")"
   ]
  }
 ],
 "metadata": {
  "language_info": {
   "name": "python"
  }
 },
 "nbformat": 4,
 "nbformat_minor": 2
}
