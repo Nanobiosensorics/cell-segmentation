{
  "cells": [
    {
      "cell_type": "code",
      "execution_count": null,
      "metadata": {
        "id": "3V1NpSDLCVKq"
      },
      "outputs": [],
      "source": [
        "# Cloning the project.\n",
        "!git clone https://github.com/Nanobiosensorics/cell-segmentation.git\n",
        "!mv cell-segmentation/.[!.]* .\n",
        "!mv cell-segmentation/* .\n",
        "!rm -r cell-segmentation"
      ]
    },
    {
      "cell_type": "code",
      "execution_count": null,
      "metadata": {
        "id": "75pPLMYkCVKr"
      },
      "outputs": [],
      "source": [
        "# Installing packages required for this project.\n",
        "%pip install -r requirements.txt"
      ]
    },
    {
      "cell_type": "code",
      "execution_count": null,
      "metadata": {
        "id": "7L3OtjqtCVKr"
      },
      "outputs": [],
      "source": [
        "# Loading the environment variables.\n",
        "from dotenv import load_dotenv\n",
        "load_dotenv()"
      ]
    },
    {
      "cell_type": "code",
      "execution_count": null,
      "metadata": {
        "id": "GMLdHiAqJZfL"
      },
      "outputs": [],
      "source": [
        "# Downloading and unzipping dataset.\n",
        "%pip install gdown\n",
        "!gdown --id \"$(printenv DRIVE_DATASET_ID)\" -O data.zip\n",
        "!unzip data.zip\n",
        "!rm data.zip"
      ]
    }
  ],
  "metadata": {
    "colab": {
      "provenance": []
    },
    "kernelspec": {
      "display_name": "Python 3",
      "name": "python3"
    },
    "language_info": {
      "name": "python",
      "version": "3.11.9"
    }
  },
  "nbformat": 4,
  "nbformat_minor": 0
}
