{
  "nbformat": 4,
  "nbformat_minor": 0,
  "metadata": {
    "colab": {
      "provenance": []
    },
    "kernelspec": {
      "name": "python3",
      "display_name": "Python 3"
    },
    "language_info": {
      "name": "python"
    }
  },
  "cells": [
    {
      "cell_type": "code",
      "execution_count": 1,
      "metadata": {
        "colab": {
          "base_uri": "https://localhost:8080/"
        },
        "id": "rGSQM7CwKdB0",
        "outputId": "429b0716-2d2c-4f6b-8398-1d5eb0e47638"
      },
      "outputs": [
        {
          "output_type": "stream",
          "name": "stdout",
          "text": [
            "Mounted at /content/drive\n"
          ]
        }
      ],
      "source": [
        "from google.colab import drive\n",
        "drive.mount('/content/drive')"
      ]
    },
    {
      "cell_type": "code",
      "source": [
        "!unzip /content/drive/MyDrive/micro_data.zip -d /content"
      ],
      "metadata": {
        "id": "cAMeWRwvLUTf"
      },
      "execution_count": null,
      "outputs": []
    },
    {
      "cell_type": "code",
      "source": [
        "import numpy as np\n",
        "import cv2\n",
        "import matplotlib.pyplot as plt\n",
        "import os\n",
        "from torch.utils.data import random_split, DataLoader, Dataset\n",
        "from PIL import Image\n",
        "from glob import glob\n",
        "\n",
        "HALF_SIDE_SCALE = 1.2\n",
        "CLASSES = []\n",
        "\n",
        "\n",
        "def get_cell_line_from(folder):\n",
        "  split = folder.split(\"_\")\n",
        "  if len(split) == 4:\n",
        "    return split[2]\n",
        "  return None\n",
        "\n",
        "\n",
        "folder_names = glob(\"/content/micro_data/*/*\")\n",
        "for folder_name in folder_names:\n",
        "  cell_line = get_cell_line_from(folder_name)\n",
        "  if cell_line != None:\n",
        "    CLASSES.append(cell_line)\n",
        "\n",
        "CLASSES = list(set(CLASSES))\n",
        "print(CLASSES)"
      ],
      "metadata": {
        "colab": {
          "base_uri": "https://localhost:8080/"
        },
        "id": "34YWP4gSOxUA",
        "outputId": "ff75599c-e118-496f-c94a-b3ae325f3676"
      },
      "execution_count": 166,
      "outputs": [
        {
          "output_type": "stream",
          "name": "stdout",
          "text": [
            "['LCLC', 'MCF7', 'H838', 'Hela', 'MDAMB231', 'HepG2']\n"
          ]
        }
      ]
    },
    {
      "cell_type": "code",
      "source": [
        "def square_mask(image_shape, center, half_side):\n",
        "  row_min = max(int(center[0] - half_side), 0)\n",
        "  row_max = min(int(center[0] + half_side), image_shape[0])\n",
        "  col_min = max(int(center[1] - half_side), 0)\n",
        "  col_max = min(int(center[1] + half_side), image_shape[1])\n",
        "  mask = np.zeros(image_shape, dtype=bool)\n",
        "  mask[row_min:row_max, col_min:col_max] = True\n",
        "  return mask\n",
        "\n",
        "\n",
        "def get_cell_image(im_mic, im_markers, cell_id):\n",
        "  im_marker = np.where(im_markers == cell_id, im_markers, 0)\n",
        "  indices = np.indices(im_marker.shape)\n",
        "  cell_indicies = np.where(im_marker != 0, indices, 0)\n",
        "\n",
        "  centroid = (np.round(np.sum(cell_indicies[0]) / np.count_nonzero(im_marker)),\n",
        "              np.round(np.sum(cell_indicies[1]) / np.count_nonzero(im_marker)))\n",
        "\n",
        "  max_y_dist = np.max(np.abs(np.where(im_marker != 0, indices[0], centroid[0]) - centroid[0]))\n",
        "  max_x_dist = np.max(np.abs(np.where(im_marker != 0, indices[1], centroid[1]) - centroid[1]))\n",
        "  half_side = max(max_y_dist, max_x_dist)\n",
        "\n",
        "  im_cell = cv2.cvtColor(im_mic, cv2.COLOR_BGR2GRAY)\n",
        "  mask = square_mask(im_cell.shape, centroid, HALF_SIDE_SCALE * half_side)\n",
        "\n",
        "  im_cell[mask == False] = 0\n",
        "  contours, _ = cv2.findContours(im_cell, cv2.RETR_EXTERNAL, cv2.CHAIN_APPROX_SIMPLE)\n",
        "  x, y, w, h = cv2.boundingRect(contours[0])\n",
        "\n",
        "  im_cell = im_cell[y:y+h, x:x+w]\n",
        "  return im_cell\n",
        "\n",
        "\n",
        "out_dir = \"/content/drive/MyDrive/cell_data\"\n",
        "if not os.path.exists(out_dir):\n",
        "  os.makedirs(out_dir)\n",
        "\n",
        "files = glob(\"/content/micro_data/**/*_seg.npz\", recursive=True)\n",
        "\n",
        "for file in files:\n",
        "  cell_line = get_cell_line_from(os.path.dirname(file))\n",
        "  if cell_line == None:\n",
        "    continue\n",
        "\n",
        "  seg = np.load(file)\n",
        "  im_mic = seg[\"im_mic\"]\n",
        "  im_markers = seg[\"im_markers\"]\n",
        "\n",
        "  max_cell_id = np.max(im_markers)\n",
        "\n",
        "  for cell_id in range(1, max_cell_id + 1):\n",
        "    file_name = os.path.basename(file).split('/')[-1].split(\".npz\")[0]\n",
        "    out_path = os.path.join(out_dir, f\"{cell_line}_{file_name}_{cell_id}.png\")\n",
        "    if not os.path.exists(out_path):\n",
        "      im_cell = get_cell_image(im_mic, im_markers, max_cell_id)\n",
        "      cv2.imwrite(out_path, im_cell)"
      ],
      "metadata": {
        "id": "sd4Ms8ZAkXZ4"
      },
      "execution_count": 174,
      "outputs": []
    },
    {
      "cell_type": "code",
      "source": [
        "!zip -r /content/drive/MyDrive/cell_data.zip /content/drive/MyDrive/cell_data\n",
        "!rm -rf /content/drive/MyDrive/cell_data"
      ],
      "metadata": {
        "id": "6DxsYkQVJLxh"
      },
      "execution_count": null,
      "outputs": []
    }
  ]
}